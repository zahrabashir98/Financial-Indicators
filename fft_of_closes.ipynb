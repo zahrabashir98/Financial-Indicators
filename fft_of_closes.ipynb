{
  "nbformat": 4,
  "nbformat_minor": 0,
  "metadata": {
    "colab": {
      "name": "fft_of_closes.ipynb",
      "provenance": [],
      "collapsed_sections": [],
      "toc_visible": true,
      "include_colab_link": true
    },
    "kernelspec": {
      "name": "python3",
      "display_name": "Python 3"
    }
  },
  "cells": [
    {
      "cell_type": "markdown",
      "metadata": {
        "id": "view-in-github",
        "colab_type": "text"
      },
      "source": [
        "<a href=\"https://colab.research.google.com/github/zahrabashir98/Financial-Indicators/blob/master/fft_of_closes.ipynb\" target=\"_parent\"><img src=\"https://colab.research.google.com/assets/colab-badge.svg\" alt=\"Open In Colab\"/></a>"
      ]
    },
    {
      "cell_type": "code",
      "metadata": {
        "id": "oE3q048Ps893",
        "colab_type": "code",
        "colab": {
          "base_uri": "https://localhost:8080/",
          "height": 35
        },
        "outputId": "ec11a4af-eade-4d0c-b022-9f02d1067dc4"
      },
      "source": [
        "from google.colab import drive\n",
        "drive.mount('/content/drive')"
      ],
      "execution_count": 51,
      "outputs": [
        {
          "output_type": "stream",
          "text": [
            "Drive already mounted at /content/drive; to attempt to forcibly remount, call drive.mount(\"/content/drive\", force_remount=True).\n"
          ],
          "name": "stdout"
        }
      ]
    },
    {
      "cell_type": "markdown",
      "metadata": {
        "id": "AzLixev2fExZ",
        "colab_type": "text"
      },
      "source": [
        "## Using FFT to Find the Dominant Frequencies in the Close Signal\n"
      ]
    },
    {
      "cell_type": "code",
      "metadata": {
        "id": "hbQrfg-aCGzE",
        "colab_type": "code",
        "colab": {}
      },
      "source": [
        "import numpy as np\n",
        "import matplotlib.pyplot as plt\n",
        "import pandas as pd \n",
        "from scipy.fft import fft, ifft\n",
        "import seaborn as sns\n",
        "path = 'drive/My Drive/SharedFolder/BINANCE_BTCUSDT, 480.csv'\n",
        "# datafile = \"BINANCE_BTCUSDT, 480.csv\"\n",
        "data = pd.read_csv(path)\n",
        "\n",
        "close = data['close']\n",
        "\n",
        "close.index = pd.to_datetime(close.index)\n",
        "close_np = close.to_numpy(dtype=None, copy=False)\n",
        "close_fft = fft(close_np)"
      ],
      "execution_count": 87,
      "outputs": []
    },
    {
      "cell_type": "code",
      "metadata": {
        "id": "CL4P42sbfkY3",
        "colab_type": "code",
        "colab": {
          "base_uri": "https://localhost:8080/",
          "height": 408
        },
        "outputId": "0b8f1e63-3676-4429-e1fe-e50312270045"
      },
      "source": [
        "data = pd.read_csv(path)\n",
        "new_data = data['close']\n",
        "\n",
        "moving_average = new_data.rolling(window=20).mean()\n",
        "\n",
        "remove_nan = moving_average.dropna()\n",
        "\n",
        "MA_fft = abs(fft(pd.Series.to_numpy(remove_nan)))\n",
        "print(MA_fft.shape)\n",
        "MA_fft_1 = np.sort(MA_fft, axis=0)\n",
        "MA_fft_1 = abs(MA_fft_1)\n",
        "result = np. where(MA_fft == 1977.9929246307263)\n",
        "print(result)\n",
        "# print(MA_fft_1[0])\n",
        "y = [i for i in range(len(MA_fft))]\n",
        "fig, axs = plt.subplots(2, 2)\n",
        "axs[0, 0].plot(y[113:3187], MA_fft[113:3187])\n",
        "axs[0, 0].set_title('Axis [0,0]')\n",
        "print(MA_fft[1000])\n",
        "print(MA_fft[2074])\n",
        "print(MA_fft[1528])\n",
        "axs[0, 1].plot(y, MA_fft, 'tab:orange')\n",
        "axs[0, 1].set_title('Axis [0,1]')\n",
        "axs[1, 0].plot(y[100:150], MA_fft[100:150], 'tab:green')\n",
        "axs[1, 0].set_title('Axis [1,0]')\n",
        "axs[1, 1].plot(y[150:200], MA_fft[150:200], 'tab:red')\n",
        "axs[1, 1].set_title('Axis [1,1]')"
      ],
      "execution_count": 139,
      "outputs": [
        {
          "output_type": "stream",
          "text": [
            "(3300,)\n",
            "(array([ 113, 3187]),)\n",
            "1977.9929246307263\n",
            "4628.244645473446\n",
            "3634.5115883801604\n",
            "3994.4622303049273\n"
          ],
          "name": "stdout"
        },
        {
          "output_type": "execute_result",
          "data": {
            "text/plain": [
              "Text(0.5, 1.0, 'Axis [1,1]')"
            ]
          },
          "metadata": {
            "tags": []
          },
          "execution_count": 139
        },
        {
          "output_type": "display_data",
          "data": {
            "image/png": "[encoded data removed]",
            "text/plain": [
              "<Figure size 432x288 with 4 Axes>"
            ]
          },
          "metadata": {
            "tags": [],
            "needs_background": "light"
          }
        }
      ]
    },
    {
      "cell_type": "code",
      "metadata": {
        "id": "UlI2w8qYJ7pH",
        "colab_type": "code",
        "colab": {}
      },
      "source": [
        "def calculate_mean_of_group(num, unit, fft_array):\n",
        "  for i in range(num):\n",
        "    if i == num-1:\n",
        "      tmp_mean = fft_array[i*unit:len(fft_array)].mean()\n",
        "\n",
        "    else:\n",
        "      tmp_mean = fft_array[i*unit:(i+1)*unit].mean()\n",
        "    print(tmp_mean)\n",
        "    tmp_array.append(tmp_mean)\n",
        "  print(\"\\n\\n\")\n",
        "  print(np.var(tmp_array))"
      ],
      "execution_count": 81,
      "outputs": []
    },
    {
      "cell_type": "markdown",
      "metadata": {
        "id": "PeEc1PfifsgV",
        "colab_type": "text"
      },
      "source": [
        "##### Finding abs of complex numbers ans subtracting the mean value from them (easier to work with)"
      ]
    },
    {
      "cell_type": "code",
      "metadata": {
        "id": "8GsiDITAPJf5",
        "colab_type": "code",
        "colab": {}
      },
      "source": [
        "tmp_array = []\n",
        "\n",
        "abs_close = []\n",
        "for data in close_fft:\n",
        "  abs_close.append((abs(data)))\n",
        "abs_close = np.array(abs_close)\n",
        "close_mean = abs_close.mean()\n",
        "\n",
        "abs_close -= close_mean\n",
        "# print(abs_close)\n",
        "num = 300\n",
        "print(len(abs_close))\n",
        "print(int(len(abs_close)/num))\n",
        "calculate_mean_of_group(num, int(len(abs_close)/num), abs_close)\n"
      ],
      "execution_count": null,
      "outputs": []
    },
    {
      "cell_type": "markdown",
      "metadata": {
        "id": "KZhd6Kg6RCua",
        "colab_type": "text"
      },
      "source": [
        "##### Visualization"
      ]
    },
    {
      "cell_type": "code",
      "metadata": {
        "id": "W5gDq8UsZRnn",
        "colab_type": "code",
        "colab": {
          "base_uri": "https://localhost:8080/",
          "height": 313
        },
        "outputId": "6e273aff-90e2-4821-97d2-a39ffd4d3a8a"
      },
      "source": [
        "print(abs_close)\n",
        "plt.plot(abs_close)\n",
        "plt.show()"
      ],
      "execution_count": 4,
      "outputs": [
        {
          "output_type": "stream",
          "text": [
            "[25812576.02167165  2561428.16094422  2970953.76237583 ...\n",
            "   825999.40907699  2970953.76237583  2561428.16094422]\n"
          ],
          "name": "stdout"
        },
        {
          "output_type": "display_data",
          "data": {
            "image/png": "[encoded data removed]",
            "text/plain": [
              "<Figure size 432x288 with 1 Axes>"
            ]
          },
          "metadata": {
            "tags": [],
            "needs_background": "light"
          }
        }
      ]
    },
    {
      "cell_type": "code",
      "metadata": {
        "id": "7oqY_dDSIqPh",
        "colab_type": "code",
        "colab": {
          "base_uri": "https://localhost:8080/",
          "height": 315
        },
        "outputId": "af7dbb6d-f28d-4408-d50e-85f6930ff792"
      },
      "source": [
        "print(abs_close)\n",
        "a =[i for i in range(len(abs_close))]\n",
        "\n",
        "data = {'num':[i for i in range(len(abs_close))], 'Close': abs_close}\n",
        "df = pd.DataFrame(data)\n",
        "# ax = sns.jointplot(x=\"Close\", y=\"num\", data=df)\n",
        "b = sns.lineplot(x=\"Close\", y=\"num\", data=df)"
      ],
      "execution_count": null,
      "outputs": [
        {
          "output_type": "stream",
          "text": [
            "[25812576.02167165  2561428.16094422  2970953.76237583 ...\n",
            "   825999.40907699  2970953.76237583  2561428.16094422]\n"
          ],
          "name": "stdout"
        },
        {
          "output_type": "display_data",
          "data": {
            "image/png": "[encoded data removed]",
            "text/plain": [
              "<Figure size 432x288 with 1 Axes>"
            ]
          },
          "metadata": {
            "tags": [],
            "needs_background": "light"
          }
        }
      ]
    },
    {
      "cell_type": "code",
      "metadata": {
        "id": "BfMOicZLjJiu",
        "colab_type": "code",
        "colab": {
          "base_uri": "https://localhost:8080/",
          "height": 163
        },
        "outputId": "aa7b471b-175b-4d3d-f0d3-74129b7c8efc"
      },
      "source": [
        "print(\"Top Ten Values:\")\n",
        "a = np.sort(abs_close)\n",
        "print(a[-10:])\n",
        "print(\"\\n\")\n",
        "print(\"Top Ten Indexes:\")\n",
        "b = abs_close.argsort()[-10:][::]\n",
        "print(b)"
      ],
      "execution_count": null,
      "outputs": [
        {
          "output_type": "stream",
          "text": [
            "Top Ten Values:\n",
            "[ 1586244.93312548  1968579.87272997  1968579.87272997  2561428.16094422\n",
            "  2561428.16094422  2624204.32740535  2624204.32740535  2970953.76237583\n",
            "  2970953.76237583 25812576.02167165]\n",
            "\n",
            "\n",
            "Top Ten Indexes:\n",
            "[3309 3310 3311 3312 3313 3314 3315 3317 3316 3318]\n"
          ],
          "name": "stdout"
        }
      ]
    }
  ]
}