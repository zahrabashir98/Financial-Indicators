{
  "nbformat": 4,
  "nbformat_minor": 0,
  "metadata": {
    "colab": {
      "name": "fft_of_closes.ipynb",
      "provenance": [],
      "collapsed_sections": [],
      "authorship_tag": "ABX9TyMsf3N2Q8KayYSGe+oSVzlE",
      "include_colab_link": true
    },
    "kernelspec": {
      "name": "python3",
      "display_name": "Python 3"
    }
  },
  "cells": [
    {
      "cell_type": "markdown",
      "metadata": {
        "id": "view-in-github",
        "colab_type": "text"
      },
      "source": [
        "<a href=\"https://colab.research.google.com/github/zahrabashir98/Financial-Indicators/blob/master/fft_of_closes.ipynb\" target=\"_parent\"><img src=\"https://colab.research.google.com/assets/colab-badge.svg\" alt=\"Open In Colab\"/></a>"
      ]
    },
    {
      "cell_type": "markdown",
      "metadata": {
        "id": "AzLixev2fExZ",
        "colab_type": "text"
      },
      "source": [
        "## Using FFT to Find the Dominant Frequencies in the Close Signal\n"
      ]
    },
    {
      "cell_type": "code",
      "metadata": {
        "id": "hbQrfg-aCGzE",
        "colab_type": "code",
        "colab": {}
      },
      "source": [
        "import numpy as np\n",
        "import matplotlib.pyplot as plt\n",
        "import pandas as pd \n",
        "from scipy.fft import fft, ifft\n",
        "import seaborn as sns\n",
        "\n",
        "datafile = \"BINANCE_BTCUSDT, 480.csv\"\n",
        "data = pd.read_csv(datafile)\n",
        "close = data['close']\n",
        "\n",
        "close.index = pd.to_datetime(close.index)\n",
        "close_np = close.to_numpy(dtype=None, copy=False)\n",
        "close_fft = fft(close_np)"
      ],
      "execution_count": null,
      "outputs": []
    },
    {
      "cell_type": "markdown",
      "metadata": {
        "id": "PeEc1PfifsgV",
        "colab_type": "text"
      },
      "source": [
        "##### Finding abs of complex numbers ans subtracting the mean value from them (easier to work with)"
      ]
    },
    {
      "cell_type": "code",
      "metadata": {
        "id": "8GsiDITAPJf5",
        "colab_type": "code",
        "colab": {
          "base_uri": "https://localhost:8080/",
          "height": 108
        },
        "outputId": "0ae9b5c6-adc2-4047-bfdd-afe70dd730cb"
      },
      "source": [
        "abs_close = []\n",
        "for data in close_fft:\n",
        "  abs_close.append((abs(data)))\n",
        "abs_close = np.array(abs_close)\n",
        "\n",
        "close_mean = abs_close.mean()\n",
        "print(close_mean)\n",
        "print(abs_close)\n",
        "abs_close -= close_mean\n",
        "print(abs_close)"
      ],
      "execution_count": 2,
      "outputs": [
        {
          "output_type": "stream",
          "text": [
            "40267.58832835524\n",
            "[25852843.61        2601695.74927257  3011221.35070418 ...\n",
            "   866266.99740534  3011221.35070418  2601695.74927257]\n",
            "[25812576.02167165  2561428.16094422  2970953.76237583 ...\n",
            "   825999.40907699  2970953.76237583  2561428.16094422]\n"
          ],
          "name": "stdout"
        }
      ]
    },
    {
      "cell_type": "markdown",
      "metadata": {
        "id": "KZhd6Kg6RCua",
        "colab_type": "text"
      },
      "source": [
        "##### Visualization"
      ]
    },
    {
      "cell_type": "code",
      "metadata": {
        "id": "W5gDq8UsZRnn",
        "colab_type": "code",
        "colab": {
          "base_uri": "https://localhost:8080/",
          "height": 313
        },
        "outputId": "04b38a0e-4e54-40e2-9293-4e10cb646ec9"
      },
      "source": [
        "print(abs_close)\n",
        "plt.plot(abs_close)\n",
        "plt.show()"
      ],
      "execution_count": 3,
      "outputs": [
        {
          "output_type": "stream",
          "text": [
            "[25812576.02167165  2561428.16094422  2970953.76237583 ...\n",
            "   825999.40907699  2970953.76237583  2561428.16094422]\n"
          ],
          "name": "stdout"
        },
        {
          "output_type": "display_data",
          "data": {
            "image/png": "[encoded data removed]",
            "text/plain": [
              "<Figure size 432x288 with 1 Axes>"
            ]
          },
          "metadata": {
            "tags": [],
            "needs_background": "light"
          }
        }
      ]
    },
    {
      "cell_type": "code",
      "metadata": {
        "id": "7oqY_dDSIqPh",
        "colab_type": "code",
        "colab": {
          "base_uri": "https://localhost:8080/",
          "height": 315
        },
        "outputId": "af7dbb6d-f28d-4408-d50e-85f6930ff792"
      },
      "source": [
        "print(abs_close)\n",
        "a =[i for i in range(len(abs_close))]\n",
        "\n",
        "data = {'num':[i for i in range(len(abs_close))], 'Close': abs_close}\n",
        "df = pd.DataFrame(data)\n",
        "# ax = sns.jointplot(x=\"Close\", y=\"num\", data=df)\n",
        "b = sns.lineplot(x=\"Close\", y=\"num\", data=df)"
      ],
      "execution_count": 8,
      "outputs": [
        {
          "output_type": "stream",
          "text": [
            "[25812576.02167165  2561428.16094422  2970953.76237583 ...\n",
            "   825999.40907699  2970953.76237583  2561428.16094422]\n"
          ],
          "name": "stdout"
        },
        {
          "output_type": "display_data",
          "data": {
            "image/png": "[encoded data removed]",
            "text/plain": [
              "<Figure size 432x288 with 1 Axes>"
            ]
          },
          "metadata": {
            "tags": [],
            "needs_background": "light"
          }
        }
      ]
    },
    {
      "cell_type": "code",
      "metadata": {
        "id": "BfMOicZLjJiu",
        "colab_type": "code",
        "colab": {
          "base_uri": "https://localhost:8080/",
          "height": 163
        },
        "outputId": "aa7b471b-175b-4d3d-f0d3-74129b7c8efc"
      },
      "source": [
        "print(\"Top Ten Values:\")\n",
        "a = np.sort(abs_close)\n",
        "print(a[-10:])\n",
        "print(\"\\n\")\n",
        "print(\"Top Ten Indexes:\")\n",
        "b = abs_close.argsort()[-10:][::]\n",
        "print(b)"
      ],
      "execution_count": 36,
      "outputs": [
        {
          "output_type": "stream",
          "text": [
            "Top Ten Values:\n",
            "[ 1586244.93312548  1968579.87272997  1968579.87272997  2561428.16094422\n",
            "  2561428.16094422  2624204.32740535  2624204.32740535  2970953.76237583\n",
            "  2970953.76237583 25812576.02167165]\n",
            "\n",
            "\n",
            "Top Ten Indexes:\n",
            "[3309 3310 3311 3312 3313 3314 3315 3317 3316 3318]\n"
          ],
          "name": "stdout"
        }
      ]
    }
  ]
}